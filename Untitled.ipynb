{
 "cells": [
  {
   "cell_type": "code",
   "execution_count": 2,
   "id": "1ce6ea02",
   "metadata": {
    "ExecuteTime": {
     "end_time": "2022-05-28T10:52:22.510518Z",
     "start_time": "2022-05-28T10:52:22.335364Z"
    }
   },
   "outputs": [],
   "source": [
    "import pandas as pd\n",
    "import os\n",
    "import numpy as np\n",
    "import pandas as pd\n",
    "pd.set_option('display.max_rows', 1000)\n",
    "pd.set_option('display.max_columns', 12000)\n",
    "pd.set_option('display.width', 1000)"
   ]
  },
  {
   "cell_type": "code",
   "execution_count": 3,
   "id": "be0b6187",
   "metadata": {
    "ExecuteTime": {
     "end_time": "2022-05-28T10:52:27.678586Z",
     "start_time": "2022-05-28T10:52:22.582578Z"
    }
   },
   "outputs": [],
   "source": [
    "fish = pd.read_csv('Ловцы_аномалий_в_базах_вылова_и_переработки_рыбопродуктов/Датасет/db1/ref/fish.csv', sep=';')\n",
    "prod_designate = pd.read_csv('Ловцы_аномалий_в_базах_вылова_и_переработки_рыбопродуктов/Датасет/db1/ref/prod_designate.csv', sep=';')\n",
    "prod_type = pd.read_csv('Ловцы_аномалий_в_базах_вылова_и_переработки_рыбопродуктов/Датасет/db1/ref/prod_type.csv', sep=';')\n",
    "regime = pd.read_csv('Ловцы_аномалий_в_базах_вылова_и_переработки_рыбопродуктов/Датасет/db1/ref/regime.csv', sep=';')\n",
    "region = pd.read_csv('Ловцы_аномалий_в_базах_вылова_и_переработки_рыбопродуктов/Датасет/db1/ref/region.csv', sep=';')\n",
    "product = pd.read_csv('Ловцы_аномалий_в_базах_вылова_и_переработки_рыбопродуктов/Датасет/db1/product.csv', sep=',')\n",
    "catch = pd.read_csv('Ловцы_аномалий_в_базах_вылова_и_переработки_рыбопродуктов/Датасет/db1/catch.csv', sep=',')\n",
    "ext = pd.read_csv('Ловцы_аномалий_в_базах_вылова_и_переработки_рыбопродуктов/Датасет/db2/Ext.csv', sep=',')\n",
    "ext2 = pd.read_csv('Ловцы_аномалий_в_базах_вылова_и_переработки_рыбопродуктов/Датасет/db2/Ext2.csv', sep=',')"
   ]
  },
  {
   "cell_type": "code",
   "execution_count": 4,
   "id": "c4cf53b2",
   "metadata": {
    "ExecuteTime": {
     "end_time": "2022-05-28T10:52:27.756574Z",
     "start_time": "2022-05-28T10:52:27.742560Z"
    }
   },
   "outputs": [
    {
     "data": {
      "text/html": [
       "<div>\n",
       "<style scoped>\n",
       "    .dataframe tbody tr th:only-of-type {\n",
       "        vertical-align: middle;\n",
       "    }\n",
       "\n",
       "    .dataframe tbody tr th {\n",
       "        vertical-align: top;\n",
       "    }\n",
       "\n",
       "    .dataframe thead th {\n",
       "        text-align: right;\n",
       "    }\n",
       "</style>\n",
       "<table border=\"1\" class=\"dataframe\">\n",
       "  <thead>\n",
       "    <tr style=\"text-align: right;\">\n",
       "      <th></th>\n",
       "      <th>id_ves</th>\n",
       "      <th>date</th>\n",
       "      <th>id_region</th>\n",
       "      <th>id_fish</th>\n",
       "      <th>catch_volume</th>\n",
       "      <th>id_regime</th>\n",
       "      <th>permit</th>\n",
       "      <th>id_own</th>\n",
       "    </tr>\n",
       "  </thead>\n",
       "  <tbody>\n",
       "    <tr>\n",
       "      <th>0</th>\n",
       "      <td>1628</td>\n",
       "      <td>2022-01-01</td>\n",
       "      <td>272</td>\n",
       "      <td>400</td>\n",
       "      <td>31.87400</td>\n",
       "      <td>41</td>\n",
       "      <td>2824</td>\n",
       "      <td>961</td>\n",
       "    </tr>\n",
       "    <tr>\n",
       "      <th>1</th>\n",
       "      <td>70</td>\n",
       "      <td>2022-01-01</td>\n",
       "      <td>277</td>\n",
       "      <td>886</td>\n",
       "      <td>0.47600</td>\n",
       "      <td>1</td>\n",
       "      <td>2414</td>\n",
       "      <td>1281</td>\n",
       "    </tr>\n",
       "    <tr>\n",
       "      <th>2</th>\n",
       "      <td>1608</td>\n",
       "      <td>2022-01-01</td>\n",
       "      <td>116</td>\n",
       "      <td>409</td>\n",
       "      <td>26.31000</td>\n",
       "      <td>15</td>\n",
       "      <td>3031</td>\n",
       "      <td>1227</td>\n",
       "    </tr>\n",
       "    <tr>\n",
       "      <th>3</th>\n",
       "      <td>832</td>\n",
       "      <td>2022-01-01</td>\n",
       "      <td>272</td>\n",
       "      <td>292</td>\n",
       "      <td>9.54100</td>\n",
       "      <td>1</td>\n",
       "      <td>1894</td>\n",
       "      <td>1281</td>\n",
       "    </tr>\n",
       "    <tr>\n",
       "      <th>4</th>\n",
       "      <td>832</td>\n",
       "      <td>2022-01-01</td>\n",
       "      <td>272</td>\n",
       "      <td>113</td>\n",
       "      <td>0.06200</td>\n",
       "      <td>1</td>\n",
       "      <td>1894</td>\n",
       "      <td>1281</td>\n",
       "    </tr>\n",
       "    <tr>\n",
       "      <th>...</th>\n",
       "      <td>...</td>\n",
       "      <td>...</td>\n",
       "      <td>...</td>\n",
       "      <td>...</td>\n",
       "      <td>...</td>\n",
       "      <td>...</td>\n",
       "      <td>...</td>\n",
       "      <td>...</td>\n",
       "    </tr>\n",
       "    <tr>\n",
       "      <th>85082</th>\n",
       "      <td>1603</td>\n",
       "      <td>2022-04-20</td>\n",
       "      <td>108</td>\n",
       "      <td>410</td>\n",
       "      <td>1.16600</td>\n",
       "      <td>18</td>\n",
       "      <td>2030</td>\n",
       "      <td>938</td>\n",
       "    </tr>\n",
       "    <tr>\n",
       "      <th>85083</th>\n",
       "      <td>60</td>\n",
       "      <td>2022-04-20</td>\n",
       "      <td>265</td>\n",
       "      <td>292</td>\n",
       "      <td>1.34500</td>\n",
       "      <td>97</td>\n",
       "      <td>2458</td>\n",
       "      <td>1101</td>\n",
       "    </tr>\n",
       "    <tr>\n",
       "      <th>85084</th>\n",
       "      <td>1323</td>\n",
       "      <td>2022-04-20</td>\n",
       "      <td>507</td>\n",
       "      <td>113</td>\n",
       "      <td>0.00400</td>\n",
       "      <td>97</td>\n",
       "      <td>2008</td>\n",
       "      <td>976</td>\n",
       "    </tr>\n",
       "    <tr>\n",
       "      <th>85085</th>\n",
       "      <td>1621</td>\n",
       "      <td>2022-04-20</td>\n",
       "      <td>206</td>\n",
       "      <td>147</td>\n",
       "      <td>0.50505</td>\n",
       "      <td>97</td>\n",
       "      <td>2501</td>\n",
       "      <td>1177</td>\n",
       "    </tr>\n",
       "    <tr>\n",
       "      <th>85086</th>\n",
       "      <td>1621</td>\n",
       "      <td>2022-04-20</td>\n",
       "      <td>206</td>\n",
       "      <td>88</td>\n",
       "      <td>0.22736</td>\n",
       "      <td>97</td>\n",
       "      <td>2501</td>\n",
       "      <td>1177</td>\n",
       "    </tr>\n",
       "  </tbody>\n",
       "</table>\n",
       "<p>85087 rows × 8 columns</p>\n",
       "</div>"
      ],
      "text/plain": [
       "       id_ves        date  id_region  id_fish  catch_volume  id_regime  permit  id_own\n",
       "0        1628  2022-01-01        272      400      31.87400         41    2824     961\n",
       "1          70  2022-01-01        277      886       0.47600          1    2414    1281\n",
       "2        1608  2022-01-01        116      409      26.31000         15    3031    1227\n",
       "3         832  2022-01-01        272      292       9.54100          1    1894    1281\n",
       "4         832  2022-01-01        272      113       0.06200          1    1894    1281\n",
       "...       ...         ...        ...      ...           ...        ...     ...     ...\n",
       "85082    1603  2022-04-20        108      410       1.16600         18    2030     938\n",
       "85083      60  2022-04-20        265      292       1.34500         97    2458    1101\n",
       "85084    1323  2022-04-20        507      113       0.00400         97    2008     976\n",
       "85085    1621  2022-04-20        206      147       0.50505         97    2501    1177\n",
       "85086    1621  2022-04-20        206       88       0.22736         97    2501    1177\n",
       "\n",
       "[85087 rows x 8 columns]"
      ]
     },
     "execution_count": 4,
     "metadata": {},
     "output_type": "execute_result"
    }
   ],
   "source": [
    "catch"
   ]
  },
  {
   "cell_type": "code",
   "execution_count": 5,
   "id": "c4024462",
   "metadata": {
    "ExecuteTime": {
     "end_time": "2022-05-28T10:52:27.835647Z",
     "start_time": "2022-05-28T10:52:27.821633Z"
    }
   },
   "outputs": [
    {
     "ename": "NameError",
     "evalue": "name 'df' is not defined",
     "output_type": "error",
     "traceback": [
      "\u001b[1;31m---------------------------------------------------------------------------\u001b[0m",
      "\u001b[1;31mNameError\u001b[0m                                 Traceback (most recent call last)",
      "Input \u001b[1;32mIn [5]\u001b[0m, in \u001b[0;36m<cell line: 1>\u001b[1;34m()\u001b[0m\n\u001b[1;32m----> 1\u001b[0m \u001b[38;5;28mprint\u001b[39m(\u001b[43mdf\u001b[49m\u001b[38;5;241m.\u001b[39mgroupby(by\u001b[38;5;241m=\u001b[39m[\u001b[38;5;124m'\u001b[39m\u001b[38;5;124mFruit\u001b[39m\u001b[38;5;124m'\u001b[39m,\u001b[38;5;124m'\u001b[39m\u001b[38;5;124mDate\u001b[39m\u001b[38;5;124m'\u001b[39m])\u001b[38;5;241m.\u001b[39msum()\u001b[38;5;241m.\u001b[39mgroupby(level\u001b[38;5;241m=\u001b[39m[\u001b[38;5;241m0\u001b[39m])\u001b[38;5;241m.\u001b[39mcumsum())\n",
      "\u001b[1;31mNameError\u001b[0m: name 'df' is not defined"
     ]
    }
   ],
   "source": [
    "print(df.groupby(by=['Fruit','Date']).sum().groupby(level=[0]).cumsum())"
   ]
  },
  {
   "cell_type": "code",
   "execution_count": 6,
   "id": "9b73f34a",
   "metadata": {
    "ExecuteTime": {
     "end_time": "2022-05-28T10:52:47.026304Z",
     "start_time": "2022-05-28T10:52:46.971254Z"
    }
   },
   "outputs": [],
   "source": [
    "# Каждой рыбы поймано всего корблём\n",
    "soed = catch.merge(fish, on='id_fish' , how = 'left')\n",
    "#soed = soed.merge(prod_designate, on='id_prod_designate' , how = 'left')\n",
    "#soed = soed.merge(prod_type, on='id_prod_type' , how = 'left')\n",
    "soed = soed.merge(regime, on='id_regime' , how = 'left')\n",
    "soed = soed.merge(region, on='id_region' , how = 'left')\n",
    "soed = soed[['id_ves','fish','catch_volume']]\n",
    "catch_by_id_ves =  soed.groupby(['id_ves','fish'] , as_index=False)['catch_volume'].sum()"
   ]
  },
  {
   "cell_type": "code",
   "execution_count": null,
   "id": "15f9d787",
   "metadata": {
    "ExecuteTime": {
     "end_time": "2022-05-28T10:21:36.547454Z",
     "start_time": "2022-05-28T10:21:36.540448Z"
    }
   },
   "outputs": [],
   "source": []
  },
  {
   "cell_type": "code",
   "execution_count": 7,
   "id": "74693559",
   "metadata": {
    "ExecuteTime": {
     "end_time": "2022-05-28T10:52:47.530159Z",
     "start_time": "2022-05-28T10:52:47.520151Z"
    }
   },
   "outputs": [
    {
     "data": {
      "text/html": [
       "<div>\n",
       "<style scoped>\n",
       "    .dataframe tbody tr th:only-of-type {\n",
       "        vertical-align: middle;\n",
       "    }\n",
       "\n",
       "    .dataframe tbody tr th {\n",
       "        vertical-align: top;\n",
       "    }\n",
       "\n",
       "    .dataframe thead th {\n",
       "        text-align: right;\n",
       "    }\n",
       "</style>\n",
       "<table border=\"1\" class=\"dataframe\">\n",
       "  <thead>\n",
       "    <tr style=\"text-align: right;\">\n",
       "      <th></th>\n",
       "      <th>id_ves</th>\n",
       "      <th>date</th>\n",
       "      <th>id_prod_designate</th>\n",
       "      <th>id_prod_type</th>\n",
       "      <th>prod_volume</th>\n",
       "      <th>prod_board_volume</th>\n",
       "    </tr>\n",
       "  </thead>\n",
       "  <tbody>\n",
       "    <tr>\n",
       "      <th>0</th>\n",
       "      <td>1610</td>\n",
       "      <td>2022-01-01</td>\n",
       "      <td>1</td>\n",
       "      <td>10128</td>\n",
       "      <td>0.102</td>\n",
       "      <td>8.234</td>\n",
       "    </tr>\n",
       "    <tr>\n",
       "      <th>1</th>\n",
       "      <td>757</td>\n",
       "      <td>2022-01-01</td>\n",
       "      <td>3</td>\n",
       "      <td>3901</td>\n",
       "      <td>0.000</td>\n",
       "      <td>42.780</td>\n",
       "    </tr>\n",
       "    <tr>\n",
       "      <th>2</th>\n",
       "      <td>564</td>\n",
       "      <td>2022-01-01</td>\n",
       "      <td>1</td>\n",
       "      <td>1113</td>\n",
       "      <td>0.000</td>\n",
       "      <td>0.050</td>\n",
       "    </tr>\n",
       "    <tr>\n",
       "      <th>3</th>\n",
       "      <td>564</td>\n",
       "      <td>2022-01-01</td>\n",
       "      <td>1</td>\n",
       "      <td>1135</td>\n",
       "      <td>0.000</td>\n",
       "      <td>4.300</td>\n",
       "    </tr>\n",
       "    <tr>\n",
       "      <th>4</th>\n",
       "      <td>564</td>\n",
       "      <td>2022-01-01</td>\n",
       "      <td>1</td>\n",
       "      <td>4648</td>\n",
       "      <td>0.000</td>\n",
       "      <td>0.225</td>\n",
       "    </tr>\n",
       "    <tr>\n",
       "      <th>...</th>\n",
       "      <td>...</td>\n",
       "      <td>...</td>\n",
       "      <td>...</td>\n",
       "      <td>...</td>\n",
       "      <td>...</td>\n",
       "      <td>...</td>\n",
       "    </tr>\n",
       "    <tr>\n",
       "      <th>395066</th>\n",
       "      <td>471</td>\n",
       "      <td>2022-04-20</td>\n",
       "      <td>1</td>\n",
       "      <td>1027</td>\n",
       "      <td>0.000</td>\n",
       "      <td>0.000</td>\n",
       "    </tr>\n",
       "    <tr>\n",
       "      <th>395067</th>\n",
       "      <td>471</td>\n",
       "      <td>2022-04-20</td>\n",
       "      <td>1</td>\n",
       "      <td>1055</td>\n",
       "      <td>0.000</td>\n",
       "      <td>0.000</td>\n",
       "    </tr>\n",
       "    <tr>\n",
       "      <th>395068</th>\n",
       "      <td>211</td>\n",
       "      <td>2022-04-20</td>\n",
       "      <td>1</td>\n",
       "      <td>9661</td>\n",
       "      <td>0.044</td>\n",
       "      <td>5.589</td>\n",
       "    </tr>\n",
       "    <tr>\n",
       "      <th>395069</th>\n",
       "      <td>211</td>\n",
       "      <td>2022-04-20</td>\n",
       "      <td>1</td>\n",
       "      <td>9660</td>\n",
       "      <td>9.394</td>\n",
       "      <td>72.115</td>\n",
       "    </tr>\n",
       "    <tr>\n",
       "      <th>395070</th>\n",
       "      <td>1603</td>\n",
       "      <td>2022-04-20</td>\n",
       "      <td>1</td>\n",
       "      <td>1092</td>\n",
       "      <td>0.000</td>\n",
       "      <td>0.045</td>\n",
       "    </tr>\n",
       "  </tbody>\n",
       "</table>\n",
       "<p>395071 rows × 6 columns</p>\n",
       "</div>"
      ],
      "text/plain": [
       "        id_ves        date  id_prod_designate  id_prod_type  prod_volume  prod_board_volume\n",
       "0         1610  2022-01-01                  1         10128        0.102              8.234\n",
       "1          757  2022-01-01                  3          3901        0.000             42.780\n",
       "2          564  2022-01-01                  1          1113        0.000              0.050\n",
       "3          564  2022-01-01                  1          1135        0.000              4.300\n",
       "4          564  2022-01-01                  1          4648        0.000              0.225\n",
       "...        ...         ...                ...           ...          ...                ...\n",
       "395066     471  2022-04-20                  1          1027        0.000              0.000\n",
       "395067     471  2022-04-20                  1          1055        0.000              0.000\n",
       "395068     211  2022-04-20                  1          9661        0.044              5.589\n",
       "395069     211  2022-04-20                  1          9660        9.394             72.115\n",
       "395070    1603  2022-04-20                  1          1092        0.000              0.045\n",
       "\n",
       "[395071 rows x 6 columns]"
      ]
     },
     "execution_count": 7,
     "metadata": {},
     "output_type": "execute_result"
    }
   ],
   "source": [
    "product\n"
   ]
  },
  {
   "cell_type": "code",
   "execution_count": 8,
   "id": "4d1f65e3",
   "metadata": {
    "ExecuteTime": {
     "end_time": "2022-05-28T10:52:48.018453Z",
     "start_time": "2022-05-28T10:52:47.921364Z"
    }
   },
   "outputs": [
    {
     "data": {
      "text/html": [
       "<div>\n",
       "<style scoped>\n",
       "    .dataframe tbody tr th:only-of-type {\n",
       "        vertical-align: middle;\n",
       "    }\n",
       "\n",
       "    .dataframe tbody tr th {\n",
       "        vertical-align: top;\n",
       "    }\n",
       "\n",
       "    .dataframe thead th {\n",
       "        text-align: right;\n",
       "    }\n",
       "</style>\n",
       "<table border=\"1\" class=\"dataframe\">\n",
       "  <thead>\n",
       "    <tr style=\"text-align: right;\">\n",
       "      <th></th>\n",
       "      <th>id_ves</th>\n",
       "      <th>prod_volume</th>\n",
       "      <th>prod_type_full</th>\n",
       "      <th>prod_board_volume</th>\n",
       "    </tr>\n",
       "  </thead>\n",
       "  <tbody>\n",
       "    <tr>\n",
       "      <th>0</th>\n",
       "      <td>1610</td>\n",
       "      <td>0.102</td>\n",
       "      <td>печень трески мороженая полиэтиленовый пакет</td>\n",
       "      <td>8.234</td>\n",
       "    </tr>\n",
       "    <tr>\n",
       "      <th>1</th>\n",
       "      <td>757</td>\n",
       "      <td>0.000</td>\n",
       "      <td>краб-стригун красный конечности варено-мороженые</td>\n",
       "      <td>42.780</td>\n",
       "    </tr>\n",
       "    <tr>\n",
       "      <th>2</th>\n",
       "      <td>564</td>\n",
       "      <td>0.000</td>\n",
       "      <td>окунь морской.всех размеров потрошен. охлажден...</td>\n",
       "      <td>0.050</td>\n",
       "    </tr>\n",
       "    <tr>\n",
       "      <th>3</th>\n",
       "      <td>564</td>\n",
       "      <td>0.000</td>\n",
       "      <td>треска вcех размеров потрошен. обезглавл. охла...</td>\n",
       "      <td>4.300</td>\n",
       "    </tr>\n",
       "    <tr>\n",
       "      <th>4</th>\n",
       "      <td>564</td>\n",
       "      <td>0.000</td>\n",
       "      <td>печень трески охлажденная</td>\n",
       "      <td>0.225</td>\n",
       "    </tr>\n",
       "    <tr>\n",
       "      <th>...</th>\n",
       "      <td>...</td>\n",
       "      <td>...</td>\n",
       "      <td>...</td>\n",
       "      <td>...</td>\n",
       "    </tr>\n",
       "    <tr>\n",
       "      <th>395066</th>\n",
       "      <td>471</td>\n",
       "      <td>0.000</td>\n",
       "      <td>камбала неразделеланная сырец 1с</td>\n",
       "      <td>0.000</td>\n",
       "    </tr>\n",
       "    <tr>\n",
       "      <th>395067</th>\n",
       "      <td>471</td>\n",
       "      <td>0.000</td>\n",
       "      <td>треска всех размеров потрошен. с головой охлаж...</td>\n",
       "      <td>0.000</td>\n",
       "    </tr>\n",
       "    <tr>\n",
       "      <th>395068</th>\n",
       "      <td>211</td>\n",
       "      <td>0.044</td>\n",
       "      <td>хамса мороженая</td>\n",
       "      <td>5.589</td>\n",
       "    </tr>\n",
       "    <tr>\n",
       "      <th>395069</th>\n",
       "      <td>211</td>\n",
       "      <td>9.394</td>\n",
       "      <td>килька (шпрот) мороженая</td>\n",
       "      <td>72.115</td>\n",
       "    </tr>\n",
       "    <tr>\n",
       "      <th>395070</th>\n",
       "      <td>1603</td>\n",
       "      <td>0.000</td>\n",
       "      <td>зубатка пестрая потрошен. обезглав. охлажден. ...</td>\n",
       "      <td>0.045</td>\n",
       "    </tr>\n",
       "  </tbody>\n",
       "</table>\n",
       "<p>395071 rows × 4 columns</p>\n",
       "</div>"
      ],
      "text/plain": [
       "        id_ves  prod_volume                                     prod_type_full  prod_board_volume\n",
       "0         1610        0.102       печень трески мороженая полиэтиленовый пакет              8.234\n",
       "1          757        0.000   краб-стригун красный конечности варено-мороженые             42.780\n",
       "2          564        0.000  окунь морской.всех размеров потрошен. охлажден...              0.050\n",
       "3          564        0.000  треска вcех размеров потрошен. обезглавл. охла...              4.300\n",
       "4          564        0.000                          печень трески охлажденная              0.225\n",
       "...        ...          ...                                                ...                ...\n",
       "395066     471        0.000                   камбала неразделеланная сырец 1с              0.000\n",
       "395067     471        0.000  треска всех размеров потрошен. с головой охлаж...              0.000\n",
       "395068     211        0.044                                    хамса мороженая              5.589\n",
       "395069     211        9.394                           килька (шпрот) мороженая             72.115\n",
       "395070    1603        0.000  зубатка пестрая потрошен. обезглав. охлажден. ...              0.045\n",
       "\n",
       "[395071 rows x 4 columns]"
      ]
     },
     "execution_count": 8,
     "metadata": {},
     "output_type": "execute_result"
    }
   ],
   "source": [
    "soed = product.merge(prod_designate, on='id_prod_designate' , how = 'left')\n",
    "soed = soed.merge(prod_type, on='id_prod_type' , how = 'left')\n",
    "soed = soed[['id_ves','prod_volume','prod_type_full','prod_board_volume']]\n",
    "soed "
   ]
  },
  {
   "cell_type": "code",
   "execution_count": null,
   "id": "6977f8a6",
   "metadata": {
    "ExecuteTime": {
     "end_time": "2022-05-27T21:11:50.391130Z",
     "start_time": "2022-05-27T21:11:50.364311Z"
    }
   },
   "outputs": [],
   "source": []
  },
  {
   "cell_type": "code",
   "execution_count": null,
   "id": "52b20488",
   "metadata": {
    "ExecuteTime": {
     "end_time": "2022-05-28T01:25:01.632522Z",
     "start_time": "2022-05-28T01:25:01.611497Z"
    }
   },
   "outputs": [],
   "source": []
  },
  {
   "cell_type": "code",
   "execution_count": 8,
   "id": "8f5bb6fc",
   "metadata": {
    "ExecuteTime": {
     "end_time": "2022-05-28T10:15:41.127699Z",
     "start_time": "2022-05-28T10:15:41.119692Z"
    }
   },
   "outputs": [],
   "source": [
    "p = product.loc[(product['id_ves'] == 2)]\n"
   ]
  },
  {
   "cell_type": "code",
   "execution_count": 84,
   "id": "da323391",
   "metadata": {
    "ExecuteTime": {
     "end_time": "2022-05-28T01:16:29.314516Z",
     "start_time": "2022-05-28T01:16:29.304498Z"
    }
   },
   "outputs": [
    {
     "data": {
      "text/plain": [
       "3"
      ]
     },
     "execution_count": 84,
     "metadata": {},
     "output_type": "execute_result"
    }
   ],
   "source": [
    "(sorted(list_of_days)[3] - sorted(list_of_days)[0]).days"
   ]
  },
  {
   "cell_type": "code",
   "execution_count": null,
   "id": "3b6b98a6",
   "metadata": {
    "ExecuteTime": {
     "end_time": "2022-05-28T01:16:29.960690Z",
     "start_time": "2022-05-28T01:16:29.755498Z"
    }
   },
   "outputs": [],
   "source": []
  },
  {
   "cell_type": "code",
   "execution_count": null,
   "id": "ff5a9568",
   "metadata": {
    "ExecuteTime": {
     "end_time": "2022-05-27T12:01:32.181528Z",
     "start_time": "2022-05-27T12:01:32.164538Z"
    }
   },
   "outputs": [],
   "source": [
    "prod_type.columns"
   ]
  },
  {
   "cell_type": "code",
   "execution_count": 9,
   "id": "c550cdac",
   "metadata": {
    "ExecuteTime": {
     "end_time": "2022-05-27T12:13:23.340293Z",
     "start_time": "2022-05-27T12:13:23.330284Z"
    }
   },
   "outputs": [
    {
     "data": {
      "text/html": [
       "<div>\n",
       "<style scoped>\n",
       "    .dataframe tbody tr th:only-of-type {\n",
       "        vertical-align: middle;\n",
       "    }\n",
       "\n",
       "    .dataframe tbody tr th {\n",
       "        vertical-align: top;\n",
       "    }\n",
       "\n",
       "    .dataframe thead th {\n",
       "        text-align: right;\n",
       "    }\n",
       "</style>\n",
       "<table border=\"1\" class=\"dataframe\">\n",
       "  <thead>\n",
       "    <tr style=\"text-align: right;\">\n",
       "      <th></th>\n",
       "      <th>id_prod_type</th>\n",
       "      <th>prod_type</th>\n",
       "      <th>id_fish</th>\n",
       "      <th>prod_type_full</th>\n",
       "    </tr>\n",
       "  </thead>\n",
       "  <tbody>\n",
       "    <tr>\n",
       "      <th>0</th>\n",
       "      <td>6060</td>\n",
       "      <td>Рыба охлажденная</td>\n",
       "      <td>2</td>\n",
       "      <td>рыба охлажденная</td>\n",
       "    </tr>\n",
       "    <tr>\n",
       "      <th>1</th>\n",
       "      <td>9420</td>\n",
       "      <td>альгинат натрия</td>\n",
       "      <td>29</td>\n",
       "      <td>альгинат натрия</td>\n",
       "    </tr>\n",
       "    <tr>\n",
       "      <th>2</th>\n",
       "      <td>6010</td>\n",
       "      <td>Пряный посол и маринады</td>\n",
       "      <td>2</td>\n",
       "      <td>пряный посол и маринады</td>\n",
       "    </tr>\n",
       "    <tr>\n",
       "      <th>3</th>\n",
       "      <td>6490</td>\n",
       "      <td>икра прочих рыб</td>\n",
       "      <td>2</td>\n",
       "      <td>икра прочих рыб</td>\n",
       "    </tr>\n",
       "    <tr>\n",
       "      <th>4</th>\n",
       "      <td>8302</td>\n",
       "      <td>Рыба, морепродукты и отходы от разделки рыбы д...</td>\n",
       "      <td>2</td>\n",
       "      <td>рыба морепродукты и отходы от разделки рыбы дл...</td>\n",
       "    </tr>\n",
       "    <tr>\n",
       "      <th>...</th>\n",
       "      <td>...</td>\n",
       "      <td>...</td>\n",
       "      <td>...</td>\n",
       "      <td>...</td>\n",
       "    </tr>\n",
       "    <tr>\n",
       "      <th>10188</th>\n",
       "      <td>9712</td>\n",
       "      <td>краб-стр опил компл конеч в панц вар-мор гр L</td>\n",
       "      <td>294</td>\n",
       "      <td>краб-стригун опилио комплект конечностей в пан...</td>\n",
       "    </tr>\n",
       "    <tr>\n",
       "      <th>10189</th>\n",
       "      <td>9713</td>\n",
       "      <td>краб-стр опил компл конеч в панц вар-мор гр 2L</td>\n",
       "      <td>294</td>\n",
       "      <td>краб-стригун опилио комплект конечностей в пан...</td>\n",
       "    </tr>\n",
       "    <tr>\n",
       "      <th>10190</th>\n",
       "      <td>9714</td>\n",
       "      <td>краб-стр опил компл конеч в панц вар-мор гр 3L</td>\n",
       "      <td>294</td>\n",
       "      <td>краб-стригун опилио комплект конечностей в пан...</td>\n",
       "    </tr>\n",
       "    <tr>\n",
       "      <th>10191</th>\n",
       "      <td>9715</td>\n",
       "      <td>краб-стр опил компл конеч в панц вар-мор гр 4L</td>\n",
       "      <td>294</td>\n",
       "      <td>краб-стригун опилио комплект конечностей в пан...</td>\n",
       "    </tr>\n",
       "    <tr>\n",
       "      <th>10192</th>\n",
       "      <td>9716</td>\n",
       "      <td>краб-стр опил компл конеч в панц вар-мор гр 5L</td>\n",
       "      <td>294</td>\n",
       "      <td>краб-стригун опилио комплект конечностей в пан...</td>\n",
       "    </tr>\n",
       "  </tbody>\n",
       "</table>\n",
       "<p>10193 rows × 4 columns</p>\n",
       "</div>"
      ],
      "text/plain": [
       "       id_prod_type                                          prod_type  \\\n",
       "0              6060                                   Рыба охлажденная   \n",
       "1              9420                                    альгинат натрия   \n",
       "2              6010                            Пряный посол и маринады   \n",
       "3              6490                                    икра прочих рыб   \n",
       "4              8302  Рыба, морепродукты и отходы от разделки рыбы д...   \n",
       "...             ...                                                ...   \n",
       "10188          9712      краб-стр опил компл конеч в панц вар-мор гр L   \n",
       "10189          9713     краб-стр опил компл конеч в панц вар-мор гр 2L   \n",
       "10190          9714     краб-стр опил компл конеч в панц вар-мор гр 3L   \n",
       "10191          9715     краб-стр опил компл конеч в панц вар-мор гр 4L   \n",
       "10192          9716     краб-стр опил компл конеч в панц вар-мор гр 5L   \n",
       "\n",
       "       id_fish                                     prod_type_full  \n",
       "0            2                                   рыба охлажденная  \n",
       "1           29                                    альгинат натрия  \n",
       "2            2                            пряный посол и маринады  \n",
       "3            2                                    икра прочих рыб  \n",
       "4            2  рыба морепродукты и отходы от разделки рыбы дл...  \n",
       "...        ...                                                ...  \n",
       "10188      294  краб-стригун опилио комплект конечностей в пан...  \n",
       "10189      294  краб-стригун опилио комплект конечностей в пан...  \n",
       "10190      294  краб-стригун опилио комплект конечностей в пан...  \n",
       "10191      294  краб-стригун опилио комплект конечностей в пан...  \n",
       "10192      294  краб-стригун опилио комплект конечностей в пан...  \n",
       "\n",
       "[10193 rows x 4 columns]"
      ]
     },
     "execution_count": 9,
     "metadata": {},
     "output_type": "execute_result"
    }
   ],
   "source": []
  },
  {
   "cell_type": "code",
   "execution_count": 10,
   "id": "bed2692b",
   "metadata": {
    "ExecuteTime": {
     "end_time": "2022-05-27T20:28:25.077895Z",
     "start_time": "2022-05-27T20:28:25.067071Z"
    }
   },
   "outputs": [
    {
     "data": {
      "text/html": [
       "<div>\n",
       "<style scoped>\n",
       "    .dataframe tbody tr th:only-of-type {\n",
       "        vertical-align: middle;\n",
       "    }\n",
       "\n",
       "    .dataframe tbody tr th {\n",
       "        vertical-align: top;\n",
       "    }\n",
       "\n",
       "    .dataframe thead th {\n",
       "        text-align: right;\n",
       "    }\n",
       "</style>\n",
       "<table border=\"1\" class=\"dataframe\">\n",
       "  <thead>\n",
       "    <tr style=\"text-align: right;\">\n",
       "      <th></th>\n",
       "      <th>id_regime</th>\n",
       "      <th>regime</th>\n",
       "    </tr>\n",
       "  </thead>\n",
       "  <tbody>\n",
       "    <tr>\n",
       "      <th>0</th>\n",
       "      <td>0</td>\n",
       "      <td>не определен</td>\n",
       "    </tr>\n",
       "    <tr>\n",
       "      <th>1</th>\n",
       "      <td>1</td>\n",
       "      <td>промышленный лов</td>\n",
       "    </tr>\n",
       "    <tr>\n",
       "      <th>2</th>\n",
       "      <td>3</td>\n",
       "      <td>научные исследования</td>\n",
       "    </tr>\n",
       "    <tr>\n",
       "      <th>3</th>\n",
       "      <td>12</td>\n",
       "      <td>прибрежное рыболовство</td>\n",
       "    </tr>\n",
       "    <tr>\n",
       "      <th>4</th>\n",
       "      <td>15</td>\n",
       "      <td>промысел для РФ по международным договорам</td>\n",
       "    </tr>\n",
       "    <tr>\n",
       "      <th>5</th>\n",
       "      <td>18</td>\n",
       "      <td>добыча (вылов) ВБР, ОДУ которых не установлен</td>\n",
       "    </tr>\n",
       "    <tr>\n",
       "      <th>6</th>\n",
       "      <td>22</td>\n",
       "      <td>промысел в ИЭЗ РФ для ин.гос.(по междунар.дого...</td>\n",
       "    </tr>\n",
       "    <tr>\n",
       "      <th>7</th>\n",
       "      <td>41</td>\n",
       "      <td>на инвестиционные цели (пром)</td>\n",
       "    </tr>\n",
       "    <tr>\n",
       "      <th>8</th>\n",
       "      <td>61</td>\n",
       "      <td>добыча (вылов) крабов в инвест. целях (пром)</td>\n",
       "    </tr>\n",
       "    <tr>\n",
       "      <th>9</th>\n",
       "      <td>97</td>\n",
       "      <td>разрешенный прилов</td>\n",
       "    </tr>\n",
       "  </tbody>\n",
       "</table>\n",
       "</div>"
      ],
      "text/plain": [
       "   id_regime                                             regime\n",
       "0          0                                       не определен\n",
       "1          1                                   промышленный лов\n",
       "2          3                               научные исследования\n",
       "3         12                             прибрежное рыболовство\n",
       "4         15         промысел для РФ по международным договорам\n",
       "5         18      добыча (вылов) ВБР, ОДУ которых не установлен\n",
       "6         22  промысел в ИЭЗ РФ для ин.гос.(по междунар.дого...\n",
       "7         41                      на инвестиционные цели (пром)\n",
       "8         61       добыча (вылов) крабов в инвест. целях (пром)\n",
       "9         97                                 разрешенный прилов"
      ]
     },
     "execution_count": 10,
     "metadata": {},
     "output_type": "execute_result"
    }
   ],
   "source": []
  },
  {
   "cell_type": "code",
   "execution_count": null,
   "id": "ec89cfda",
   "metadata": {
    "ExecuteTime": {
     "end_time": "2022-05-27T12:01:33.612554Z",
     "start_time": "2022-05-27T12:01:33.599542Z"
    }
   },
   "outputs": [],
   "source": []
  },
  {
   "cell_type": "code",
   "execution_count": 7,
   "id": "f61d4643",
   "metadata": {
    "ExecuteTime": {
     "end_time": "2022-05-27T12:09:04.848503Z",
     "start_time": "2022-05-27T12:09:04.843499Z"
    }
   },
   "outputs": [
    {
     "data": {
      "text/plain": [
       "Index(['id_ves', 'date', 'id_prod_designate', 'id_prod_type', 'prod_volume',\n",
       "       'prod_board_volume'],\n",
       "      dtype='object')"
      ]
     },
     "execution_count": 7,
     "metadata": {},
     "output_type": "execute_result"
    }
   ],
   "source": []
  },
  {
   "cell_type": "code",
   "execution_count": 6,
   "id": "919877eb",
   "metadata": {
    "ExecuteTime": {
     "end_time": "2022-05-27T12:09:03.990574Z",
     "start_time": "2022-05-27T12:09:03.974557Z"
    }
   },
   "outputs": [
    {
     "data": {
      "text/plain": [
       "Index(['id_ves', 'date', 'id_region', 'id_fish', 'catch_volume', 'id_regime',\n",
       "       'permit', 'id_own'],\n",
       "      dtype='object')"
      ]
     },
     "execution_count": 6,
     "metadata": {},
     "output_type": "execute_result"
    }
   ],
   "source": []
  },
  {
   "cell_type": "code",
   "execution_count": 5,
   "id": "2e552fe2",
   "metadata": {
    "ExecuteTime": {
     "end_time": "2022-05-27T12:07:45.729546Z",
     "start_time": "2022-05-27T12:07:45.717534Z"
    }
   },
   "outputs": [
    {
     "data": {
      "text/plain": [
       "id_ves \n",
       "2937153    4595\n",
       "7230657    3990\n",
       "507352     3831\n",
       "1580077    3768\n",
       "8230097    3725\n",
       "           ... \n",
       "4118607       2\n",
       "7166521       2\n",
       "3386130       2\n",
       "8167380       2\n",
       "1727836       2\n",
       "Length: 859, dtype: int64"
      ]
     },
     "execution_count": 5,
     "metadata": {},
     "output_type": "execute_result"
    }
   ],
   "source": []
  },
  {
   "cell_type": "code",
   "execution_count": 3,
   "id": "2f5a283f",
   "metadata": {
    "ExecuteTime": {
     "end_time": "2022-05-27T12:07:33.062378Z",
     "start_time": "2022-05-27T12:07:33.042360Z"
    }
   },
   "outputs": [
    {
     "data": {
      "text/plain": [
       "id_ves \n",
       "6817365    665\n",
       "3496590    659\n",
       "16137      601\n",
       "2918960    597\n",
       "8230097    597\n",
       "          ... \n",
       "7063799      2\n",
       "7166521      2\n",
       "3386130      2\n",
       "5376044      1\n",
       "7966792      1\n",
       "Length: 733, dtype: int64"
      ]
     },
     "execution_count": 3,
     "metadata": {},
     "output_type": "execute_result"
    }
   ],
   "source": []
  },
  {
   "cell_type": "code",
   "execution_count": 4,
   "id": "be9f6268",
   "metadata": {
    "ExecuteTime": {
     "end_time": "2022-05-27T12:07:34.350763Z",
     "start_time": "2022-05-27T12:07:34.094530Z"
    }
   },
   "outputs": [
    {
     "ename": "NameError",
     "evalue": "name 'soed' is not defined",
     "output_type": "error",
     "traceback": [
      "\u001b[1;31m---------------------------------------------------------------------------\u001b[0m",
      "\u001b[1;31mNameError\u001b[0m                                 Traceback (most recent call last)",
      "\u001b[1;32m~\\AppData\\Local\\Temp/ipykernel_516/80564399.py\u001b[0m in \u001b[0;36m<module>\u001b[1;34m\u001b[0m\n\u001b[1;32m----> 1\u001b[1;33m \u001b[0msoed\u001b[0m\u001b[1;33m[\u001b[0m\u001b[1;33m[\u001b[0m\u001b[1;34m'id_ves'\u001b[0m\u001b[1;33m]\u001b[0m\u001b[1;33m]\u001b[0m\u001b[1;33m.\u001b[0m\u001b[0mvalue_counts\u001b[0m\u001b[1;33m(\u001b[0m\u001b[1;33m)\u001b[0m\u001b[1;33m\u001b[0m\u001b[1;33m\u001b[0m\u001b[0m\n\u001b[0m",
      "\u001b[1;31mNameError\u001b[0m: name 'soed' is not defined"
     ]
    }
   ],
   "source": []
  },
  {
   "cell_type": "code",
   "execution_count": null,
   "id": "e150a38e",
   "metadata": {
    "ExecuteTime": {
     "start_time": "2022-05-27T11:47:11.559Z"
    }
   },
   "outputs": [],
   "source": [
    "#soed.to_csv(f\"soed1.csv\", index=False, encoding='utf-8')"
   ]
  },
  {
   "cell_type": "code",
   "execution_count": null,
   "id": "6825087a",
   "metadata": {
    "ExecuteTime": {
     "start_time": "2022-05-27T11:47:11.560Z"
    }
   },
   "outputs": [],
   "source": [
    "soed6.info()"
   ]
  },
  {
   "cell_type": "code",
   "execution_count": null,
   "id": "7e7acf4c",
   "metadata": {
    "ExecuteTime": {
     "start_time": "2022-05-27T11:47:11.560Z"
    }
   },
   "outputs": [],
   "source": [
    "soed.describe(include = 'all')"
   ]
  },
  {
   "cell_type": "code",
   "execution_count": null,
   "id": "d79ee6f2",
   "metadata": {
    "ExecuteTime": {
     "end_time": "2022-05-27T11:54:09.851550Z",
     "start_time": "2022-05-27T11:54:09.836536Z"
    }
   },
   "outputs": [],
   "source": [
    "soed.columns"
   ]
  },
  {
   "cell_type": "code",
   "execution_count": null,
   "id": "fc3674cd",
   "metadata": {},
   "outputs": [],
   "source": [
    "soed = soed['id_ves', 'date_x',  'prod_volume',\n",
    "       'prod_board_volume', 'date_y',  'catch_volume',\n",
    "        'permit', 'id_own', 'fish', 'prod_designate', 'prod_type',\n",
    "       'id_fish_y', 'prod_type_full', 'regime', 'region']"
   ]
  },
  {
   "cell_type": "code",
   "execution_count": null,
   "id": "e94735e3",
   "metadata": {},
   "outputs": [],
   "source": []
  },
  {
   "cell_type": "code",
   "execution_count": 83,
   "id": "902ebf3e",
   "metadata": {
    "ExecuteTime": {
     "end_time": "2022-05-28T01:16:28.274492Z",
     "start_time": "2022-05-28T01:16:27.721562Z"
    }
   },
   "outputs": [],
   "source": [
    "# Группировка таблицы с catch по кораблям\n",
    "\n",
    "# Получаю список уникальных кораблей\n",
    "list_of_ships = list(set(catch['id_ves'].to_list()))\n",
    "races = {}\n",
    "for ship in list_of_ships:\n",
    "    c = catch.loc[(catch['id_ves'] == ship)]\n",
    "    #Проверка делал ли корабль перерыв между рейсами\n",
    "    # Получаю список дней \n",
    "    list_of_days =  sorted(list(set(c['date'].to_list())))\n",
    "    # Перевожу даты в секунды, Проверяю есть ли прерыв(ы) в рейсе и в какую(ие) дату(ы)\n",
    "    i = 0\n",
    "    end_race = 0\n",
    "    all_params = []\n",
    "    time_of_standing = []\n",
    "    time_of_race = []\n",
    "    dates_of_race = [] \n",
    "    dates_of_standing = []\n",
    "    # Получаю даты рейсов и их стоянок. \n",
    "    end_race = None            \n",
    "    for data in list_of_days: \n",
    "        if i == 0:\n",
    "            start = data\n",
    "            i +=1\n",
    "        if end_race != None:\n",
    "            start = data\n",
    "            standing = f'{end_race.date()}#{start.date()}'\n",
    "            duaration_of_standing = (start - end_race).days\n",
    "            time_of_standing.append(duaration_of_standing)\n",
    "            dates_of_standing.append(standing)\n",
    "            end_race = None \n",
    "        data1 = data+pd.Timedelta(days=1)\n",
    "        if data1 in list_of_days: \n",
    "            None\n",
    "        else: \n",
    "            end_race = data\n",
    "            race = f'{start.date()}#{end_race.date()}'\n",
    "            duaration_of_race = (end_race - start).days\n",
    "            time_of_race.append(duaration_of_race+1)\n",
    "            dates_of_race.append(race)\n",
    "            i += 1 \n",
    "                \n",
    "    races[ship] = [dates_of_race , time_of_race,time_of_standing,dates_of_standing]\n",
    "\n"
   ]
  }
 ],
 "metadata": {
  "kernelspec": {
   "display_name": "Python 3 (ipykernel)",
   "language": "python",
   "name": "python3"
  },
  "language_info": {
   "codemirror_mode": {
    "name": "ipython",
    "version": 3
   },
   "file_extension": ".py",
   "mimetype": "text/x-python",
   "name": "python",
   "nbconvert_exporter": "python",
   "pygments_lexer": "ipython3",
   "version": "3.9.7"
  },
  "varInspector": {
   "cols": {
    "lenName": 16,
    "lenType": 16,
    "lenVar": 40
   },
   "kernels_config": {
    "python": {
     "delete_cmd_postfix": "",
     "delete_cmd_prefix": "del ",
     "library": "var_list.py",
     "varRefreshCmd": "print(var_dic_list())"
    },
    "r": {
     "delete_cmd_postfix": ") ",
     "delete_cmd_prefix": "rm(",
     "library": "var_list.r",
     "varRefreshCmd": "cat(var_dic_list()) "
    }
   },
   "position": {
    "height": "429.85px",
    "left": "1588.23px",
    "right": "20px",
    "top": "136.942px",
    "width": "350px"
   },
   "types_to_exclude": [
    "module",
    "function",
    "builtin_function_or_method",
    "instance",
    "_Feature"
   ],
   "window_display": false
  }
 },
 "nbformat": 4,
 "nbformat_minor": 5
}
